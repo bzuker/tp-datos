{
 "cells": [
  {
   "cell_type": "code",
   "execution_count": 7,
   "metadata": {
    "collapsed": false,
    "deletable": true,
    "editable": true
   },
   "outputs": [],
   "source": [
    "import pandas as pd\n",
    "import numpy as np\n",
    "import matplotlib as plt\n",
    "%matplotlib inline"
   ]
  },
  {
   "cell_type": "code",
   "execution_count": 8,
   "metadata": {
    "collapsed": false,
    "deletable": true,
    "editable": true
   },
   "outputs": [],
   "source": [
    "trips = pd.read_csv(\"trip.csv\")\n",
    "weather = pd.read_csv(\"weather.csv\")\n",
    "stations = pd.read_csv(\"station.csv\")\n",
    "# status = pd.read_csv(\"status.csv\")"
   ]
  },
  {
   "cell_type": "code",
   "execution_count": 9,
   "metadata": {
    "collapsed": false,
    "deletable": true,
    "editable": true
   },
   "outputs": [
    {
     "data": {
      "text/plain": [
       "id                     int64\n",
       "name                  object\n",
       "lat                  float64\n",
       "long                 float64\n",
       "dock_count             int64\n",
       "city                  object\n",
       "installation_date     object\n",
       "dtype: object"
      ]
     },
     "execution_count": 9,
     "metadata": {},
     "output_type": "execute_result"
    }
   ],
   "source": [
    "stations.dtypes"
   ]
  },
  {
   "cell_type": "code",
   "execution_count": 91,
   "metadata": {
    "collapsed": false,
    "deletable": true,
    "editable": true
   },
   "outputs": [
    {
     "data": {
      "text/plain": [
       "id                             int64\n",
       "duration_sec                   int64\n",
       "start_date            datetime64[ns]\n",
       "start_station_name            object\n",
       "start_station_id               int64\n",
       "end_date              datetime64[ns]\n",
       "end_station_name              object\n",
       "end_station_id                 int64\n",
       "bike_id                        int64\n",
       "subscription_type             object\n",
       "zip_code                     float64\n",
       "date                  datetime64[ns]\n",
       "duration_min                 float64\n",
       "dtype: object"
      ]
     },
     "execution_count": 91,
     "metadata": {},
     "output_type": "execute_result"
    }
   ],
   "source": [
    "trips.dtypes"
   ]
  },
  {
   "cell_type": "code",
   "execution_count": 92,
   "metadata": {
    "collapsed": false,
    "deletable": true,
    "editable": true
   },
   "outputs": [
    {
     "data": {
      "text/plain": [
       "date                              datetime64[ns]\n",
       "max_temperature_f                        float64\n",
       "mean_temperature_f                       float64\n",
       "min_temperature_f                        float64\n",
       "max_dew_point_f                          float64\n",
       "mean_dew_point_f                         float64\n",
       "min_dew_point_f                          float64\n",
       "max_humidity                             float64\n",
       "mean_humidity                            float64\n",
       "min_humidity                             float64\n",
       "max_sea_level_pressure_inches            float64\n",
       "mean_sea_level_pressure_inches           float64\n",
       "min_sea_level_pressure_inches            float64\n",
       "max_visibility_miles                     float64\n",
       "mean_visibility_miles                    float64\n",
       "min_visibility_miles                     float64\n",
       "max_wind_Speed_mph                       float64\n",
       "mean_wind_speed_mph                      float64\n",
       "max_gust_speed_mph                       float64\n",
       "precipitation_inches                     float64\n",
       "cloud_cover                              float64\n",
       "events                                    object\n",
       "wind_dir_degrees                         float64\n",
       "zip_code                                   int64\n",
       "dtype: object"
      ]
     },
     "execution_count": 92,
     "metadata": {},
     "output_type": "execute_result"
    }
   ],
   "source": [
    "weather.dtypes"
   ]
  },
  {
   "cell_type": "code",
   "execution_count": 12,
   "metadata": {
    "collapsed": false,
    "deletable": true,
    "editable": true
   },
   "outputs": [],
   "source": [
    "# status.dtypes"
   ]
  },
  {
   "cell_type": "code",
   "execution_count": 13,
   "metadata": {
    "collapsed": true,
    "deletable": true,
    "editable": true
   },
   "outputs": [],
   "source": [
    "# Cambio la columna 'installation_date', de stations, para que sea de tipo fecha.\n",
    "\n",
    "stations.installation_date = pd.to_datetime(stations.installation_date, errors='coerce')"
   ]
  },
  {
   "cell_type": "code",
   "execution_count": 14,
   "metadata": {
    "collapsed": true,
    "deletable": true,
    "editable": true
   },
   "outputs": [],
   "source": [
    "# Cambio 'start_date','end_date' a tipo fecha, y 'zip_code' a tipo numerico. Del dataframe trips\n",
    "\n",
    "trips.start_date = pd.to_datetime(trips.start_date, errors='coerce')\n",
    "trips.end_date = pd.to_datetime(trips.end_date, errors='coerce')\n",
    "trips.zip_code = pd.to_numeric(trips.zip_code, errors='coerce')"
   ]
  },
  {
   "cell_type": "code",
   "execution_count": 89,
   "metadata": {
    "collapsed": true,
    "deletable": true,
    "editable": true
   },
   "outputs": [],
   "source": [
    "# Cambio 'date' a tipo fecha y 'precipitation_inches' a numerico, de weather.\n",
    "\n",
    "weather.date = pd.to_datetime(weather.date, errors='coerce')\n",
    "weather.precipitation_inches = pd.to_numeric(weather.precipitation_inches, errors='coerce')"
   ]
  },
  {
   "cell_type": "code",
   "execution_count": 70,
   "metadata": {
    "collapsed": false,
    "deletable": true,
    "editable": true
   },
   "outputs": [],
   "source": [
    "# Cambio 'time' de tipo fecha, de status\n",
    "\n",
    "# status.time = pd.to_datetime(status.time, errors='coerce')"
   ]
  },
  {
   "cell_type": "code",
   "execution_count": 76,
   "metadata": {
    "collapsed": false,
    "deletable": true,
    "editable": true
   },
   "outputs": [],
   "source": [
    "# Agrego una columna a trips para guardar fechas sin horas, para poder hacer operaciones entre dataframes.\n",
    "\n",
    "trips['date'] = trips.start_date.dt.date\n",
    "trips.date = pd.to_datetime(trips.date, errors='coerce')"
   ]
  },
  {
   "cell_type": "code",
   "execution_count": 18,
   "metadata": {
    "collapsed": false,
    "deletable": true,
    "editable": true
   },
   "outputs": [
    {
     "name": "stdout",
     "output_type": "stream",
     "text": [
      "Duracion de viajes promedio de personas con subscripcion: 590.048856101\n",
      "Duracion de viajes promedio de personas sin subscripcion: 3951.76132851\n"
     ]
    }
   ],
   "source": [
    "# Las personas sin subscripciones hacen viajes mas largos.\n",
    "\n",
    "trip_duration_subs = trips.loc[trips.subscription_type == 'Subscriber'].duration.mean()\n",
    "trip_duration_nonsub = trips.loc[trips.subscription_type == 'Customer'].duration.mean()\n",
    "\n",
    "print('Duracion de viajes promedio de personas con subscripcion: ' + str(trip_duration_subs))\n",
    "print('Duracion de viajes promedio de personas sin subscripcion: ' + str(trip_duration_nonsub))"
   ]
  },
  {
   "cell_type": "code",
   "execution_count": 22,
   "metadata": {
    "collapsed": false,
    "deletable": true,
    "editable": true,
    "scrolled": false
   },
   "outputs": [
    {
     "data": {
      "text/html": [
       "<div>\n",
       "<table border=\"1\" class=\"dataframe\">\n",
       "  <thead>\n",
       "    <tr style=\"text-align: right;\">\n",
       "      <th></th>\n",
       "      <th>id</th>\n",
       "      <th>duration_sec</th>\n",
       "      <th>start_date</th>\n",
       "      <th>start_station_name</th>\n",
       "      <th>start_station_id</th>\n",
       "      <th>end_date</th>\n",
       "      <th>end_station_name</th>\n",
       "      <th>end_station_id</th>\n",
       "      <th>bike_id</th>\n",
       "      <th>subscription_type</th>\n",
       "      <th>zip_code</th>\n",
       "      <th>date</th>\n",
       "      <th>duration_min</th>\n",
       "    </tr>\n",
       "  </thead>\n",
       "  <tbody>\n",
       "    <tr>\n",
       "      <th>0</th>\n",
       "      <td>4576</td>\n",
       "      <td>63</td>\n",
       "      <td>2013-08-29 14:13:00</td>\n",
       "      <td>South Van Ness at Market</td>\n",
       "      <td>66</td>\n",
       "      <td>2013-08-29 14:14:00</td>\n",
       "      <td>South Van Ness at Market</td>\n",
       "      <td>66</td>\n",
       "      <td>520</td>\n",
       "      <td>Subscriber</td>\n",
       "      <td>94127.0</td>\n",
       "      <td>2013-08-29</td>\n",
       "      <td>1.050000</td>\n",
       "    </tr>\n",
       "    <tr>\n",
       "      <th>1</th>\n",
       "      <td>4607</td>\n",
       "      <td>70</td>\n",
       "      <td>2013-08-29 14:42:00</td>\n",
       "      <td>San Jose City Hall</td>\n",
       "      <td>10</td>\n",
       "      <td>2013-08-29 14:43:00</td>\n",
       "      <td>San Jose City Hall</td>\n",
       "      <td>10</td>\n",
       "      <td>661</td>\n",
       "      <td>Subscriber</td>\n",
       "      <td>95138.0</td>\n",
       "      <td>2013-08-29</td>\n",
       "      <td>1.166667</td>\n",
       "    </tr>\n",
       "    <tr>\n",
       "      <th>2</th>\n",
       "      <td>4130</td>\n",
       "      <td>71</td>\n",
       "      <td>2013-08-29 10:16:00</td>\n",
       "      <td>Mountain View City Hall</td>\n",
       "      <td>27</td>\n",
       "      <td>2013-08-29 10:17:00</td>\n",
       "      <td>Mountain View City Hall</td>\n",
       "      <td>27</td>\n",
       "      <td>48</td>\n",
       "      <td>Subscriber</td>\n",
       "      <td>97214.0</td>\n",
       "      <td>2013-08-29</td>\n",
       "      <td>1.183333</td>\n",
       "    </tr>\n",
       "    <tr>\n",
       "      <th>3</th>\n",
       "      <td>4251</td>\n",
       "      <td>77</td>\n",
       "      <td>2013-08-29 11:29:00</td>\n",
       "      <td>San Jose City Hall</td>\n",
       "      <td>10</td>\n",
       "      <td>2013-08-29 11:30:00</td>\n",
       "      <td>San Jose City Hall</td>\n",
       "      <td>10</td>\n",
       "      <td>26</td>\n",
       "      <td>Subscriber</td>\n",
       "      <td>95060.0</td>\n",
       "      <td>2013-08-29</td>\n",
       "      <td>1.283333</td>\n",
       "    </tr>\n",
       "    <tr>\n",
       "      <th>4</th>\n",
       "      <td>4299</td>\n",
       "      <td>83</td>\n",
       "      <td>2013-08-29 12:02:00</td>\n",
       "      <td>South Van Ness at Market</td>\n",
       "      <td>66</td>\n",
       "      <td>2013-08-29 12:04:00</td>\n",
       "      <td>Market at 10th</td>\n",
       "      <td>67</td>\n",
       "      <td>319</td>\n",
       "      <td>Subscriber</td>\n",
       "      <td>94103.0</td>\n",
       "      <td>2013-08-29</td>\n",
       "      <td>1.383333</td>\n",
       "    </tr>\n",
       "  </tbody>\n",
       "</table>\n",
       "</div>"
      ],
      "text/plain": [
       "     id  duration_sec          start_date        start_station_name  \\\n",
       "0  4576            63 2013-08-29 14:13:00  South Van Ness at Market   \n",
       "1  4607            70 2013-08-29 14:42:00        San Jose City Hall   \n",
       "2  4130            71 2013-08-29 10:16:00   Mountain View City Hall   \n",
       "3  4251            77 2013-08-29 11:29:00        San Jose City Hall   \n",
       "4  4299            83 2013-08-29 12:02:00  South Van Ness at Market   \n",
       "\n",
       "   start_station_id            end_date          end_station_name  \\\n",
       "0                66 2013-08-29 14:14:00  South Van Ness at Market   \n",
       "1                10 2013-08-29 14:43:00        San Jose City Hall   \n",
       "2                27 2013-08-29 10:17:00   Mountain View City Hall   \n",
       "3                10 2013-08-29 11:30:00        San Jose City Hall   \n",
       "4                66 2013-08-29 12:04:00            Market at 10th   \n",
       "\n",
       "   end_station_id  bike_id subscription_type  zip_code        date  \\\n",
       "0              66      520        Subscriber   94127.0  2013-08-29   \n",
       "1              10      661        Subscriber   95138.0  2013-08-29   \n",
       "2              27       48        Subscriber   97214.0  2013-08-29   \n",
       "3              10       26        Subscriber   95060.0  2013-08-29   \n",
       "4              67      319        Subscriber   94103.0  2013-08-29   \n",
       "\n",
       "   duration_min  \n",
       "0      1.050000  \n",
       "1      1.166667  \n",
       "2      1.183333  \n",
       "3      1.283333  \n",
       "4      1.383333  "
      ]
     },
     "execution_count": 22,
     "metadata": {},
     "output_type": "execute_result"
    }
   ],
   "source": [
    "# Renombro duration a duration_sec, y agrego duration_min con la conversion a minutos.\n",
    "\n",
    "trips.rename(columns={'duration' : 'duration_sec'}, inplace=True)\n",
    "trips['duration_min'] = trips.duration_sec/60"
   ]
  },
  {
   "cell_type": "code",
   "execution_count": 36,
   "metadata": {
    "collapsed": false,
    "deletable": true,
    "editable": true
   },
   "outputs": [
    {
     "data": {
      "text/html": [
       "<div>\n",
       "<table border=\"1\" class=\"dataframe\">\n",
       "  <thead>\n",
       "    <tr style=\"text-align: right;\">\n",
       "      <th></th>\n",
       "      <th>id</th>\n",
       "      <th>duration_sec</th>\n",
       "      <th>start_date</th>\n",
       "      <th>start_station_name</th>\n",
       "      <th>start_station_id</th>\n",
       "      <th>end_date</th>\n",
       "      <th>end_station_name</th>\n",
       "      <th>end_station_id</th>\n",
       "      <th>bike_id</th>\n",
       "      <th>subscription_type</th>\n",
       "      <th>zip_code</th>\n",
       "      <th>date</th>\n",
       "      <th>duration_min</th>\n",
       "    </tr>\n",
       "  </thead>\n",
       "  <tbody>\n",
       "    <tr>\n",
       "      <th>80510</th>\n",
       "      <td>111309</td>\n",
       "      <td>722236</td>\n",
       "      <td>2013-11-30 13:29:00</td>\n",
       "      <td>University and Emerson</td>\n",
       "      <td>35</td>\n",
       "      <td>2013-12-08 22:06:00</td>\n",
       "      <td>University and Emerson</td>\n",
       "      <td>35</td>\n",
       "      <td>247</td>\n",
       "      <td>Customer</td>\n",
       "      <td>94301.0</td>\n",
       "      <td>2013-11-30</td>\n",
       "      <td>12037.266667</td>\n",
       "    </tr>\n",
       "    <tr>\n",
       "      <th>93400</th>\n",
       "      <td>129504</td>\n",
       "      <td>619322</td>\n",
       "      <td>2013-12-18 09:16:00</td>\n",
       "      <td>San Jose Diridon Caltrain Station</td>\n",
       "      <td>2</td>\n",
       "      <td>2013-12-25 13:18:00</td>\n",
       "      <td>SJSU 4th at San Carlos</td>\n",
       "      <td>12</td>\n",
       "      <td>653</td>\n",
       "      <td>Subscriber</td>\n",
       "      <td>94041.0</td>\n",
       "      <td>2013-12-18</td>\n",
       "      <td>10322.033333</td>\n",
       "    </tr>\n",
       "    <tr>\n",
       "      <th>195379</th>\n",
       "      <td>361321</td>\n",
       "      <td>715339</td>\n",
       "      <td>2014-07-13 05:50:00</td>\n",
       "      <td>Arena Green / SAP Center</td>\n",
       "      <td>14</td>\n",
       "      <td>2014-07-21 12:32:00</td>\n",
       "      <td>Adobe on Almaden</td>\n",
       "      <td>5</td>\n",
       "      <td>251</td>\n",
       "      <td>Customer</td>\n",
       "      <td>NaN</td>\n",
       "      <td>2014-07-13</td>\n",
       "      <td>11922.316667</td>\n",
       "    </tr>\n",
       "  </tbody>\n",
       "</table>\n",
       "</div>"
      ],
      "text/plain": [
       "            id  duration_sec          start_date  \\\n",
       "80510   111309        722236 2013-11-30 13:29:00   \n",
       "93400   129504        619322 2013-12-18 09:16:00   \n",
       "195379  361321        715339 2014-07-13 05:50:00   \n",
       "\n",
       "                       start_station_name  start_station_id  \\\n",
       "80510              University and Emerson                35   \n",
       "93400   San Jose Diridon Caltrain Station                 2   \n",
       "195379           Arena Green / SAP Center                14   \n",
       "\n",
       "                  end_date        end_station_name  end_station_id  bike_id  \\\n",
       "80510  2013-12-08 22:06:00  University and Emerson              35      247   \n",
       "93400  2013-12-25 13:18:00  SJSU 4th at San Carlos              12      653   \n",
       "195379 2014-07-21 12:32:00        Adobe on Almaden               5      251   \n",
       "\n",
       "       subscription_type  zip_code        date  duration_min  \n",
       "80510           Customer   94301.0  2013-11-30  12037.266667  \n",
       "93400         Subscriber   94041.0  2013-12-18  10322.033333  \n",
       "195379          Customer       NaN  2014-07-13  11922.316667  "
      ]
     },
     "execution_count": 36,
     "metadata": {},
     "output_type": "execute_result"
    }
   ],
   "source": [
    "# Cuánta gente se 'robó' bicicletas\n",
    "# (Consideramos robada cuando tardó + de 1 semana en devolver)\n",
    "\n",
    "diasDistintos = trips.loc[trips.start_date.dt.date != trips.end_date.dt.date, :]\n",
    "unaSemana = 60 * 24 * 7\n",
    "diasDistintos.loc[diasDistintos.duration_min > unaSemana, :].head(3)"
   ]
  },
  {
   "cell_type": "code",
   "execution_count": 96,
   "metadata": {
    "collapsed": false,
    "deletable": true,
    "editable": true
   },
   "outputs": [
    {
     "data": {
      "text/html": [
       "<div>\n",
       "<table border=\"1\" class=\"dataframe\">\n",
       "  <thead>\n",
       "    <tr style=\"text-align: right;\">\n",
       "      <th></th>\n",
       "      <th>id</th>\n",
       "      <th>duration_sec</th>\n",
       "      <th>start_date</th>\n",
       "      <th>start_station_name</th>\n",
       "      <th>start_station_id</th>\n",
       "      <th>end_date</th>\n",
       "      <th>end_station_name</th>\n",
       "      <th>end_station_id</th>\n",
       "      <th>bike_id</th>\n",
       "      <th>subscription_type</th>\n",
       "      <th>...</th>\n",
       "      <th>mean_visibility_miles</th>\n",
       "      <th>min_visibility_miles</th>\n",
       "      <th>max_wind_Speed_mph</th>\n",
       "      <th>mean_wind_speed_mph</th>\n",
       "      <th>max_gust_speed_mph</th>\n",
       "      <th>precipitation_inches</th>\n",
       "      <th>cloud_cover</th>\n",
       "      <th>events</th>\n",
       "      <th>wind_dir_degrees</th>\n",
       "      <th>zip_code_w</th>\n",
       "    </tr>\n",
       "  </thead>\n",
       "  <tbody>\n",
       "    <tr>\n",
       "      <th>0</th>\n",
       "      <td>4576</td>\n",
       "      <td>63</td>\n",
       "      <td>2013-08-29 14:13:00</td>\n",
       "      <td>South Van Ness at Market</td>\n",
       "      <td>66</td>\n",
       "      <td>2013-08-29 14:14:00</td>\n",
       "      <td>South Van Ness at Market</td>\n",
       "      <td>66</td>\n",
       "      <td>520</td>\n",
       "      <td>Subscriber</td>\n",
       "      <td>...</td>\n",
       "      <td>NaN</td>\n",
       "      <td>NaN</td>\n",
       "      <td>NaN</td>\n",
       "      <td>NaN</td>\n",
       "      <td>NaN</td>\n",
       "      <td>NaN</td>\n",
       "      <td>NaN</td>\n",
       "      <td>NaN</td>\n",
       "      <td>NaN</td>\n",
       "      <td>NaN</td>\n",
       "    </tr>\n",
       "    <tr>\n",
       "      <th>1</th>\n",
       "      <td>4607</td>\n",
       "      <td>70</td>\n",
       "      <td>2013-08-29 14:42:00</td>\n",
       "      <td>San Jose City Hall</td>\n",
       "      <td>10</td>\n",
       "      <td>2013-08-29 14:43:00</td>\n",
       "      <td>San Jose City Hall</td>\n",
       "      <td>10</td>\n",
       "      <td>661</td>\n",
       "      <td>Subscriber</td>\n",
       "      <td>...</td>\n",
       "      <td>NaN</td>\n",
       "      <td>NaN</td>\n",
       "      <td>NaN</td>\n",
       "      <td>NaN</td>\n",
       "      <td>NaN</td>\n",
       "      <td>NaN</td>\n",
       "      <td>NaN</td>\n",
       "      <td>NaN</td>\n",
       "      <td>NaN</td>\n",
       "      <td>NaN</td>\n",
       "    </tr>\n",
       "    <tr>\n",
       "      <th>2</th>\n",
       "      <td>4130</td>\n",
       "      <td>71</td>\n",
       "      <td>2013-08-29 10:16:00</td>\n",
       "      <td>Mountain View City Hall</td>\n",
       "      <td>27</td>\n",
       "      <td>2013-08-29 10:17:00</td>\n",
       "      <td>Mountain View City Hall</td>\n",
       "      <td>27</td>\n",
       "      <td>48</td>\n",
       "      <td>Subscriber</td>\n",
       "      <td>...</td>\n",
       "      <td>NaN</td>\n",
       "      <td>NaN</td>\n",
       "      <td>NaN</td>\n",
       "      <td>NaN</td>\n",
       "      <td>NaN</td>\n",
       "      <td>NaN</td>\n",
       "      <td>NaN</td>\n",
       "      <td>NaN</td>\n",
       "      <td>NaN</td>\n",
       "      <td>NaN</td>\n",
       "    </tr>\n",
       "    <tr>\n",
       "      <th>3</th>\n",
       "      <td>4251</td>\n",
       "      <td>77</td>\n",
       "      <td>2013-08-29 11:29:00</td>\n",
       "      <td>San Jose City Hall</td>\n",
       "      <td>10</td>\n",
       "      <td>2013-08-29 11:30:00</td>\n",
       "      <td>San Jose City Hall</td>\n",
       "      <td>10</td>\n",
       "      <td>26</td>\n",
       "      <td>Subscriber</td>\n",
       "      <td>...</td>\n",
       "      <td>NaN</td>\n",
       "      <td>NaN</td>\n",
       "      <td>NaN</td>\n",
       "      <td>NaN</td>\n",
       "      <td>NaN</td>\n",
       "      <td>NaN</td>\n",
       "      <td>NaN</td>\n",
       "      <td>NaN</td>\n",
       "      <td>NaN</td>\n",
       "      <td>NaN</td>\n",
       "    </tr>\n",
       "    <tr>\n",
       "      <th>4</th>\n",
       "      <td>4299</td>\n",
       "      <td>83</td>\n",
       "      <td>2013-08-29 12:02:00</td>\n",
       "      <td>South Van Ness at Market</td>\n",
       "      <td>66</td>\n",
       "      <td>2013-08-29 12:04:00</td>\n",
       "      <td>Market at 10th</td>\n",
       "      <td>67</td>\n",
       "      <td>319</td>\n",
       "      <td>Subscriber</td>\n",
       "      <td>...</td>\n",
       "      <td>NaN</td>\n",
       "      <td>NaN</td>\n",
       "      <td>NaN</td>\n",
       "      <td>NaN</td>\n",
       "      <td>NaN</td>\n",
       "      <td>NaN</td>\n",
       "      <td>NaN</td>\n",
       "      <td>NaN</td>\n",
       "      <td>NaN</td>\n",
       "      <td>NaN</td>\n",
       "    </tr>\n",
       "  </tbody>\n",
       "</table>\n",
       "<p>5 rows × 37 columns</p>\n",
       "</div>"
      ],
      "text/plain": [
       "     id  duration_sec          start_date        start_station_name  \\\n",
       "0  4576            63 2013-08-29 14:13:00  South Van Ness at Market   \n",
       "1  4607            70 2013-08-29 14:42:00        San Jose City Hall   \n",
       "2  4130            71 2013-08-29 10:16:00   Mountain View City Hall   \n",
       "3  4251            77 2013-08-29 11:29:00        San Jose City Hall   \n",
       "4  4299            83 2013-08-29 12:02:00  South Van Ness at Market   \n",
       "\n",
       "   start_station_id            end_date          end_station_name  \\\n",
       "0                66 2013-08-29 14:14:00  South Van Ness at Market   \n",
       "1                10 2013-08-29 14:43:00        San Jose City Hall   \n",
       "2                27 2013-08-29 10:17:00   Mountain View City Hall   \n",
       "3                10 2013-08-29 11:30:00        San Jose City Hall   \n",
       "4                66 2013-08-29 12:04:00            Market at 10th   \n",
       "\n",
       "   end_station_id  bike_id subscription_type     ...      \\\n",
       "0              66      520        Subscriber     ...       \n",
       "1              10      661        Subscriber     ...       \n",
       "2              27       48        Subscriber     ...       \n",
       "3              10       26        Subscriber     ...       \n",
       "4              67      319        Subscriber     ...       \n",
       "\n",
       "   mean_visibility_miles min_visibility_miles  max_wind_Speed_mph  \\\n",
       "0                    NaN                  NaN                 NaN   \n",
       "1                    NaN                  NaN                 NaN   \n",
       "2                    NaN                  NaN                 NaN   \n",
       "3                    NaN                  NaN                 NaN   \n",
       "4                    NaN                  NaN                 NaN   \n",
       "\n",
       "  mean_wind_speed_mph  max_gust_speed_mph  precipitation_inches  cloud_cover  \\\n",
       "0                 NaN                 NaN                   NaN          NaN   \n",
       "1                 NaN                 NaN                   NaN          NaN   \n",
       "2                 NaN                 NaN                   NaN          NaN   \n",
       "3                 NaN                 NaN                   NaN          NaN   \n",
       "4                 NaN                 NaN                   NaN          NaN   \n",
       "\n",
       "   events  wind_dir_degrees  zip_code_w  \n",
       "0     NaN               NaN         NaN  \n",
       "1     NaN               NaN         NaN  \n",
       "2     NaN               NaN         NaN  \n",
       "3     NaN               NaN         NaN  \n",
       "4     NaN               NaN         NaN  \n",
       "\n",
       "[5 rows x 37 columns]"
      ]
     },
     "execution_count": 96,
     "metadata": {},
     "output_type": "execute_result"
    }
   ],
   "source": [
    "trips.join(weather, lsuffix='_t', rsuffix='_w', on='date').head(5)"
   ]
  }
 ],
 "metadata": {
  "kernelspec": {
   "display_name": "Python 2",
   "language": "python",
   "name": "python2"
  },
  "language_info": {
   "codemirror_mode": {
    "name": "ipython",
    "version": 2
   },
   "file_extension": ".py",
   "mimetype": "text/x-python",
   "name": "python",
   "nbconvert_exporter": "python",
   "pygments_lexer": "ipython2",
   "version": "2.7.12"
  }
 },
 "nbformat": 4,
 "nbformat_minor": 2
}
