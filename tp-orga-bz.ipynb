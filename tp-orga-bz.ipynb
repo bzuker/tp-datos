{
 "cells": [
  {
   "cell_type": "code",
   "execution_count": 1,
   "metadata": {
    "collapsed": false
   },
   "outputs": [],
   "source": [
    "import pandas as pd\n",
    "import numpy as np\n",
    "import matplotlib.pyplot as plt\n",
    "%matplotlib inline"
   ]
  },
  {
   "cell_type": "code",
   "execution_count": 2,
   "metadata": {
    "collapsed": false
   },
   "outputs": [],
   "source": [
    "trips = pd.read_csv('data/trip.csv')\n",
    "weather = pd.read_csv('data/weather.csv')\n",
    "stations = pd.read_csv('data/station.csv')\n",
    "#status = pd.read_csv('data/status.csv', low_memory= False)"
   ]
  },
  {
   "cell_type": "code",
   "execution_count": 3,
   "metadata": {
    "collapsed": false
   },
   "outputs": [
    {
     "data": {
      "text/html": [
       "<div>\n",
       "<table border=\"1\" class=\"dataframe\">\n",
       "  <thead>\n",
       "    <tr style=\"text-align: right;\">\n",
       "      <th></th>\n",
       "      <th>id</th>\n",
       "      <th>duration</th>\n",
       "      <th>start_date</th>\n",
       "      <th>start_station_name</th>\n",
       "      <th>start_station_id</th>\n",
       "      <th>end_date</th>\n",
       "      <th>end_station_name</th>\n",
       "      <th>end_station_id</th>\n",
       "      <th>bike_id</th>\n",
       "      <th>subscription_type</th>\n",
       "      <th>zip_code</th>\n",
       "    </tr>\n",
       "  </thead>\n",
       "  <tbody>\n",
       "    <tr>\n",
       "      <th>0</th>\n",
       "      <td>4576</td>\n",
       "      <td>63</td>\n",
       "      <td>8/29/2013 14:13</td>\n",
       "      <td>South Van Ness at Market</td>\n",
       "      <td>66</td>\n",
       "      <td>8/29/2013 14:14</td>\n",
       "      <td>South Van Ness at Market</td>\n",
       "      <td>66</td>\n",
       "      <td>520</td>\n",
       "      <td>Subscriber</td>\n",
       "      <td>94127</td>\n",
       "    </tr>\n",
       "    <tr>\n",
       "      <th>1</th>\n",
       "      <td>4607</td>\n",
       "      <td>70</td>\n",
       "      <td>8/29/2013 14:42</td>\n",
       "      <td>San Jose City Hall</td>\n",
       "      <td>10</td>\n",
       "      <td>8/29/2013 14:43</td>\n",
       "      <td>San Jose City Hall</td>\n",
       "      <td>10</td>\n",
       "      <td>661</td>\n",
       "      <td>Subscriber</td>\n",
       "      <td>95138</td>\n",
       "    </tr>\n",
       "    <tr>\n",
       "      <th>2</th>\n",
       "      <td>4130</td>\n",
       "      <td>71</td>\n",
       "      <td>8/29/2013 10:16</td>\n",
       "      <td>Mountain View City Hall</td>\n",
       "      <td>27</td>\n",
       "      <td>8/29/2013 10:17</td>\n",
       "      <td>Mountain View City Hall</td>\n",
       "      <td>27</td>\n",
       "      <td>48</td>\n",
       "      <td>Subscriber</td>\n",
       "      <td>97214</td>\n",
       "    </tr>\n",
       "    <tr>\n",
       "      <th>3</th>\n",
       "      <td>4251</td>\n",
       "      <td>77</td>\n",
       "      <td>8/29/2013 11:29</td>\n",
       "      <td>San Jose City Hall</td>\n",
       "      <td>10</td>\n",
       "      <td>8/29/2013 11:30</td>\n",
       "      <td>San Jose City Hall</td>\n",
       "      <td>10</td>\n",
       "      <td>26</td>\n",
       "      <td>Subscriber</td>\n",
       "      <td>95060</td>\n",
       "    </tr>\n",
       "    <tr>\n",
       "      <th>4</th>\n",
       "      <td>4299</td>\n",
       "      <td>83</td>\n",
       "      <td>8/29/2013 12:02</td>\n",
       "      <td>South Van Ness at Market</td>\n",
       "      <td>66</td>\n",
       "      <td>8/29/2013 12:04</td>\n",
       "      <td>Market at 10th</td>\n",
       "      <td>67</td>\n",
       "      <td>319</td>\n",
       "      <td>Subscriber</td>\n",
       "      <td>94103</td>\n",
       "    </tr>\n",
       "  </tbody>\n",
       "</table>\n",
       "</div>"
      ],
      "text/plain": [
       "     id  duration       start_date        start_station_name  \\\n",
       "0  4576        63  8/29/2013 14:13  South Van Ness at Market   \n",
       "1  4607        70  8/29/2013 14:42        San Jose City Hall   \n",
       "2  4130        71  8/29/2013 10:16   Mountain View City Hall   \n",
       "3  4251        77  8/29/2013 11:29        San Jose City Hall   \n",
       "4  4299        83  8/29/2013 12:02  South Van Ness at Market   \n",
       "\n",
       "   start_station_id         end_date          end_station_name  \\\n",
       "0                66  8/29/2013 14:14  South Van Ness at Market   \n",
       "1                10  8/29/2013 14:43        San Jose City Hall   \n",
       "2                27  8/29/2013 10:17   Mountain View City Hall   \n",
       "3                10  8/29/2013 11:30        San Jose City Hall   \n",
       "4                66  8/29/2013 12:04            Market at 10th   \n",
       "\n",
       "   end_station_id  bike_id subscription_type zip_code  \n",
       "0              66      520        Subscriber    94127  \n",
       "1              10      661        Subscriber    95138  \n",
       "2              27       48        Subscriber    97214  \n",
       "3              10       26        Subscriber    95060  \n",
       "4              67      319        Subscriber    94103  "
      ]
     },
     "execution_count": 3,
     "metadata": {},
     "output_type": "execute_result"
    }
   ],
   "source": [
    "trips.head()"
   ]
  },
  {
   "cell_type": "code",
   "execution_count": 4,
   "metadata": {
    "collapsed": false
   },
   "outputs": [
    {
     "data": {
      "text/html": [
       "<div>\n",
       "<table border=\"1\" class=\"dataframe\">\n",
       "  <thead>\n",
       "    <tr style=\"text-align: right;\">\n",
       "      <th></th>\n",
       "      <th>id</th>\n",
       "      <th>duration</th>\n",
       "      <th>start_station_id</th>\n",
       "      <th>end_station_id</th>\n",
       "      <th>bike_id</th>\n",
       "    </tr>\n",
       "  </thead>\n",
       "  <tbody>\n",
       "    <tr>\n",
       "      <th>count</th>\n",
       "      <td>669959.000000</td>\n",
       "      <td>6.699590e+05</td>\n",
       "      <td>669959.000000</td>\n",
       "      <td>669959.000000</td>\n",
       "      <td>669959.000000</td>\n",
       "    </tr>\n",
       "    <tr>\n",
       "      <th>mean</th>\n",
       "      <td>460382.009899</td>\n",
       "      <td>1.107950e+03</td>\n",
       "      <td>57.851876</td>\n",
       "      <td>57.837438</td>\n",
       "      <td>427.587620</td>\n",
       "    </tr>\n",
       "    <tr>\n",
       "      <th>std</th>\n",
       "      <td>264584.458487</td>\n",
       "      <td>2.225544e+04</td>\n",
       "      <td>17.112474</td>\n",
       "      <td>17.200142</td>\n",
       "      <td>153.450988</td>\n",
       "    </tr>\n",
       "    <tr>\n",
       "      <th>min</th>\n",
       "      <td>4069.000000</td>\n",
       "      <td>6.000000e+01</td>\n",
       "      <td>2.000000</td>\n",
       "      <td>2.000000</td>\n",
       "      <td>9.000000</td>\n",
       "    </tr>\n",
       "    <tr>\n",
       "      <th>25%</th>\n",
       "      <td>231082.500000</td>\n",
       "      <td>3.440000e+02</td>\n",
       "      <td>50.000000</td>\n",
       "      <td>50.000000</td>\n",
       "      <td>334.000000</td>\n",
       "    </tr>\n",
       "    <tr>\n",
       "      <th>50%</th>\n",
       "      <td>459274.000000</td>\n",
       "      <td>5.170000e+02</td>\n",
       "      <td>62.000000</td>\n",
       "      <td>62.000000</td>\n",
       "      <td>440.000000</td>\n",
       "    </tr>\n",
       "    <tr>\n",
       "      <th>75%</th>\n",
       "      <td>692601.000000</td>\n",
       "      <td>7.550000e+02</td>\n",
       "      <td>70.000000</td>\n",
       "      <td>70.000000</td>\n",
       "      <td>546.000000</td>\n",
       "    </tr>\n",
       "    <tr>\n",
       "      <th>max</th>\n",
       "      <td>913460.000000</td>\n",
       "      <td>1.727040e+07</td>\n",
       "      <td>84.000000</td>\n",
       "      <td>84.000000</td>\n",
       "      <td>878.000000</td>\n",
       "    </tr>\n",
       "  </tbody>\n",
       "</table>\n",
       "</div>"
      ],
      "text/plain": [
       "                  id      duration  start_station_id  end_station_id  \\\n",
       "count  669959.000000  6.699590e+05     669959.000000   669959.000000   \n",
       "mean   460382.009899  1.107950e+03         57.851876       57.837438   \n",
       "std    264584.458487  2.225544e+04         17.112474       17.200142   \n",
       "min      4069.000000  6.000000e+01          2.000000        2.000000   \n",
       "25%    231082.500000  3.440000e+02         50.000000       50.000000   \n",
       "50%    459274.000000  5.170000e+02         62.000000       62.000000   \n",
       "75%    692601.000000  7.550000e+02         70.000000       70.000000   \n",
       "max    913460.000000  1.727040e+07         84.000000       84.000000   \n",
       "\n",
       "             bike_id  \n",
       "count  669959.000000  \n",
       "mean      427.587620  \n",
       "std       153.450988  \n",
       "min         9.000000  \n",
       "25%       334.000000  \n",
       "50%       440.000000  \n",
       "75%       546.000000  \n",
       "max       878.000000  "
      ]
     },
     "execution_count": 4,
     "metadata": {},
     "output_type": "execute_result"
    }
   ],
   "source": [
    "trips.describe()"
   ]
  },
  {
   "cell_type": "code",
   "execution_count": 5,
   "metadata": {
    "collapsed": false
   },
   "outputs": [
    {
     "data": {
      "text/plain": [
       "count    6.699590e+05\n",
       "mean     1.107950e+03\n",
       "std      2.225544e+04\n",
       "min      6.000000e+01\n",
       "25%      3.440000e+02\n",
       "50%      5.170000e+02\n",
       "75%      7.550000e+02\n",
       "max      1.727040e+07\n",
       "Name: duration, dtype: float64"
      ]
     },
     "execution_count": 5,
     "metadata": {},
     "output_type": "execute_result"
    }
   ],
   "source": [
    "trips.duration.describe()"
   ]
  },
  {
   "cell_type": "code",
   "execution_count": 6,
   "metadata": {
    "collapsed": true
   },
   "outputs": [],
   "source": [
    "# Paso duration a minutos.\n",
    "trips.duration /= 60"
   ]
  },
  {
   "cell_type": "code",
   "execution_count": 7,
   "metadata": {
    "collapsed": false
   },
   "outputs": [
    {
     "data": {
      "text/plain": [
       "count    669959.000000\n",
       "mean         18.465831\n",
       "std         370.923950\n",
       "min           1.000000\n",
       "25%           5.733333\n",
       "50%           8.616667\n",
       "75%          12.583333\n",
       "max      287840.000000\n",
       "Name: duration, dtype: float64"
      ]
     },
     "execution_count": 7,
     "metadata": {},
     "output_type": "execute_result"
    }
   ],
   "source": [
    "trips.duration.describe()"
   ]
  },
  {
   "cell_type": "code",
   "execution_count": 8,
   "metadata": {
    "collapsed": false
   },
   "outputs": [
    {
     "data": {
      "text/plain": [
       "id                    1886\n",
       "duration              1886\n",
       "start_date            1886\n",
       "start_station_name    1886\n",
       "start_station_id      1886\n",
       "end_date              1886\n",
       "end_station_name      1886\n",
       "end_station_id        1886\n",
       "bike_id               1886\n",
       "subscription_type     1886\n",
       "zip_code              1775\n",
       "dtype: int64"
      ]
     },
     "execution_count": 8,
     "metadata": {},
     "output_type": "execute_result"
    }
   ],
   "source": [
    "ochoHoras = 60 * 8\n",
    "trips[trips.duration > ochoHoras].count()"
   ]
  },
  {
   "cell_type": "code",
   "execution_count": 47,
   "metadata": {
    "collapsed": false
   },
   "outputs": [],
   "source": [
    "trips.start_date = pd.to_datetime(trips.start_date, format='%m/%d/%Y %H:%M')\n",
    "trips.end_date = pd.to_datetime(trips.end_date, format='%m/%d/%Y %H:%M')\n",
    "trips[\"date\"] = trips.start_date.dt.date\n",
    "trips[\"startYear\"] = trips.start_date.dt.year\n",
    "trips[\"startMonth\"] = trips.start_date.dt.month\n",
    "trips[\"startWeekday\"]  = trips.start_date.dt.weekday_name\n",
    "trips[\"startWeekdayId\"]  = trips.start_date.dt.weekday\n",
    "trips[\"startHour\"] = trips.start_date.dt.hour\n",
    "trips[\"endHour\"] = trips.end_date.dt.hour"
   ]
  },
  {
   "cell_type": "code",
   "execution_count": 10,
   "metadata": {
    "collapsed": false
   },
   "outputs": [],
   "source": [
    "diasDistintos = trips[trips.start_date.dt.date != trips.end_date.dt.date]"
   ]
  },
  {
   "cell_type": "code",
   "execution_count": 11,
   "metadata": {
    "collapsed": false
   },
   "outputs": [],
   "source": [
    "# Cuánta gente se 'robó' bicicletas\n",
    "# (Consideramos robada cuando tardó + de 1 semana en devolver)\n",
    "unaSemana = 60 * 24 * 7\n",
    "ladrones = diasDistintos[diasDistintos.duration > unaSemana]"
   ]
  },
  {
   "cell_type": "code",
   "execution_count": 12,
   "metadata": {
    "collapsed": false
   },
   "outputs": [
    {
     "data": {
      "text/plain": [
       "startYear\n",
       "2013    2\n",
       "2014    5\n",
       "2015    6\n",
       "Name: id, dtype: int64"
      ]
     },
     "execution_count": 12,
     "metadata": {},
     "output_type": "execute_result"
    }
   ],
   "source": [
    "# No se roban tantas bicis.\n",
    "ladrones.groupby('startYear').count()['id']"
   ]
  },
  {
   "cell_type": "code",
   "execution_count": 13,
   "metadata": {
    "collapsed": false
   },
   "outputs": [
    {
     "data": {
      "text/plain": [
       "<matplotlib.axes._subplots.AxesSubplot at 0x7f240bfc8ac8>"
      ]
     },
     "execution_count": 13,
     "metadata": {},
     "output_type": "execute_result"
    },
    {
     "data": {
      "image/png": "[encoded data removed]",
      "text/plain": [
       "<matplotlib.figure.Figure at 0x7f240bfc8f98>"
      ]
     },
     "metadata": {},
     "output_type": "display_data"
    }
   ],
   "source": [
    "# Horas en las que se sacan las bicis\n",
    "# Pareciera que se usan para ir a trabajar, por los picos a las 8 y 17hs10000\n",
    "trips.startHour.value_counts().sort_index().plot(kind='bar',figsize=(14,4))"
   ]
  },
  {
   "cell_type": "code",
   "execution_count": 14,
   "metadata": {
    "collapsed": false
   },
   "outputs": [
    {
     "data": {
      "text/plain": [
       "<matplotlib.axes._subplots.AxesSubplot at 0x7f240bcbee48>"
      ]
     },
     "execution_count": 14,
     "metadata": {},
     "output_type": "execute_result"
    },
    {
     "data": {
      "image/png": "[encoded data removed]",
      "text/plain": [
       "<matplotlib.figure.Figure at 0x7f240bb94198>"
      ]
     },
     "metadata": {},
     "output_type": "display_data"
    }
   ],
   "source": [
    "# Más indicios que se usan para trabajar, mucho más uso en la semana que los findes.\n",
    "trips['startWeekdayId'].value_counts().sort_index().plot(kind='bar')"
   ]
  },
  {
   "cell_type": "code",
   "execution_count": 15,
   "metadata": {
    "collapsed": false
   },
   "outputs": [
    {
     "data": {
      "text/plain": [
       "<matplotlib.axes._subplots.AxesSubplot at 0x7f240bb231d0>"
      ]
     },
     "execution_count": 15,
     "metadata": {},
     "output_type": "execute_result"
    },
    {
     "data": {
      "image/png": "[encoded data removed]",
      "text/plain": [
       "<matplotlib.figure.Figure at 0x7f240bb386d8>"
      ]
     },
     "metadata": {},
     "output_type": "display_data"
    }
   ],
   "source": [
    "# Vemos cuales son los meses más comunes.\n",
    "trips.startMonth.value_counts().sort_index().plot(kind='bar')"
   ]
  },
  {
   "cell_type": "code",
   "execution_count": 128,
   "metadata": {
    "collapsed": false
   },
   "outputs": [
    {
     "name": "stdout",
     "output_type": "stream",
     "text": [
      "Index(['id', 'duration', 'start_date', 'start_station_name',\n",
      "       'start_station_id', 'end_date', 'end_station_name', 'end_station_id',\n",
      "       'bike_id', 'subscription_type', 'zip_code', 'startYear', 'startMonth',\n",
      "       'startWeekday', 'startWeekdayId', 'startHour', 'endHour', 'date'],\n",
      "      dtype='object')\n"
     ]
    },
    {
     "data": {
      "text/html": [
       "<div>\n",
       "<table border=\"1\" class=\"dataframe\">\n",
       "  <thead>\n",
       "    <tr style=\"text-align: right;\">\n",
       "      <th></th>\n",
       "      <th>alquiladas</th>\n",
       "      <th>date</th>\n",
       "    </tr>\n",
       "  </thead>\n",
       "  <tbody>\n",
       "    <tr>\n",
       "      <th>0</th>\n",
       "      <td>748</td>\n",
       "      <td>2013-08-29</td>\n",
       "    </tr>\n",
       "    <tr>\n",
       "      <th>1</th>\n",
       "      <td>714</td>\n",
       "      <td>2013-08-30</td>\n",
       "    </tr>\n",
       "    <tr>\n",
       "      <th>2</th>\n",
       "      <td>640</td>\n",
       "      <td>2013-08-31</td>\n",
       "    </tr>\n",
       "    <tr>\n",
       "      <th>3</th>\n",
       "      <td>706</td>\n",
       "      <td>2013-09-01</td>\n",
       "    </tr>\n",
       "    <tr>\n",
       "      <th>4</th>\n",
       "      <td>661</td>\n",
       "      <td>2013-09-02</td>\n",
       "    </tr>\n",
       "    <tr>\n",
       "      <th>5</th>\n",
       "      <td>597</td>\n",
       "      <td>2013-09-03</td>\n",
       "    </tr>\n",
       "    <tr>\n",
       "      <th>6</th>\n",
       "      <td>606</td>\n",
       "      <td>2013-09-04</td>\n",
       "    </tr>\n",
       "    <tr>\n",
       "      <th>7</th>\n",
       "      <td>677</td>\n",
       "      <td>2013-09-05</td>\n",
       "    </tr>\n",
       "    <tr>\n",
       "      <th>8</th>\n",
       "      <td>814</td>\n",
       "      <td>2013-09-06</td>\n",
       "    </tr>\n",
       "    <tr>\n",
       "      <th>9</th>\n",
       "      <td>796</td>\n",
       "      <td>2013-09-07</td>\n",
       "    </tr>\n",
       "    <tr>\n",
       "      <th>10</th>\n",
       "      <td>704</td>\n",
       "      <td>2013-09-08</td>\n",
       "    </tr>\n",
       "    <tr>\n",
       "      <th>11</th>\n",
       "      <td>769</td>\n",
       "      <td>2013-09-09</td>\n",
       "    </tr>\n",
       "    <tr>\n",
       "      <th>12</th>\n",
       "      <td>892</td>\n",
       "      <td>2013-09-10</td>\n",
       "    </tr>\n",
       "    <tr>\n",
       "      <th>13</th>\n",
       "      <td>880</td>\n",
       "      <td>2013-09-11</td>\n",
       "    </tr>\n",
       "    <tr>\n",
       "      <th>14</th>\n",
       "      <td>942</td>\n",
       "      <td>2013-09-12</td>\n",
       "    </tr>\n",
       "    <tr>\n",
       "      <th>15</th>\n",
       "      <td>981</td>\n",
       "      <td>2013-09-13</td>\n",
       "    </tr>\n",
       "    <tr>\n",
       "      <th>16</th>\n",
       "      <td>702</td>\n",
       "      <td>2013-09-14</td>\n",
       "    </tr>\n",
       "    <tr>\n",
       "      <th>17</th>\n",
       "      <td>624</td>\n",
       "      <td>2013-09-15</td>\n",
       "    </tr>\n",
       "    <tr>\n",
       "      <th>18</th>\n",
       "      <td>914</td>\n",
       "      <td>2013-09-16</td>\n",
       "    </tr>\n",
       "    <tr>\n",
       "      <th>19</th>\n",
       "      <td>1073</td>\n",
       "      <td>2013-09-17</td>\n",
       "    </tr>\n",
       "    <tr>\n",
       "      <th>20</th>\n",
       "      <td>1110</td>\n",
       "      <td>2013-09-18</td>\n",
       "    </tr>\n",
       "    <tr>\n",
       "      <th>21</th>\n",
       "      <td>1044</td>\n",
       "      <td>2013-09-19</td>\n",
       "    </tr>\n",
       "    <tr>\n",
       "      <th>22</th>\n",
       "      <td>1102</td>\n",
       "      <td>2013-09-20</td>\n",
       "    </tr>\n",
       "    <tr>\n",
       "      <th>23</th>\n",
       "      <td>388</td>\n",
       "      <td>2013-09-21</td>\n",
       "    </tr>\n",
       "    <tr>\n",
       "      <th>24</th>\n",
       "      <td>584</td>\n",
       "      <td>2013-09-22</td>\n",
       "    </tr>\n",
       "    <tr>\n",
       "      <th>25</th>\n",
       "      <td>1050</td>\n",
       "      <td>2013-09-23</td>\n",
       "    </tr>\n",
       "    <tr>\n",
       "      <th>26</th>\n",
       "      <td>1075</td>\n",
       "      <td>2013-09-24</td>\n",
       "    </tr>\n",
       "    <tr>\n",
       "      <th>27</th>\n",
       "      <td>1264</td>\n",
       "      <td>2013-09-25</td>\n",
       "    </tr>\n",
       "    <tr>\n",
       "      <th>28</th>\n",
       "      <td>1082</td>\n",
       "      <td>2013-09-26</td>\n",
       "    </tr>\n",
       "    <tr>\n",
       "      <th>29</th>\n",
       "      <td>1101</td>\n",
       "      <td>2013-09-27</td>\n",
       "    </tr>\n",
       "    <tr>\n",
       "      <th>...</th>\n",
       "      <td>...</td>\n",
       "      <td>...</td>\n",
       "    </tr>\n",
       "    <tr>\n",
       "      <th>703</th>\n",
       "      <td>320</td>\n",
       "      <td>2015-08-02</td>\n",
       "    </tr>\n",
       "    <tr>\n",
       "      <th>704</th>\n",
       "      <td>1283</td>\n",
       "      <td>2015-08-03</td>\n",
       "    </tr>\n",
       "    <tr>\n",
       "      <th>705</th>\n",
       "      <td>1360</td>\n",
       "      <td>2015-08-04</td>\n",
       "    </tr>\n",
       "    <tr>\n",
       "      <th>706</th>\n",
       "      <td>1341</td>\n",
       "      <td>2015-08-05</td>\n",
       "    </tr>\n",
       "    <tr>\n",
       "      <th>707</th>\n",
       "      <td>1299</td>\n",
       "      <td>2015-08-06</td>\n",
       "    </tr>\n",
       "    <tr>\n",
       "      <th>708</th>\n",
       "      <td>1197</td>\n",
       "      <td>2015-08-07</td>\n",
       "    </tr>\n",
       "    <tr>\n",
       "      <th>709</th>\n",
       "      <td>432</td>\n",
       "      <td>2015-08-08</td>\n",
       "    </tr>\n",
       "    <tr>\n",
       "      <th>710</th>\n",
       "      <td>361</td>\n",
       "      <td>2015-08-09</td>\n",
       "    </tr>\n",
       "    <tr>\n",
       "      <th>711</th>\n",
       "      <td>1284</td>\n",
       "      <td>2015-08-10</td>\n",
       "    </tr>\n",
       "    <tr>\n",
       "      <th>712</th>\n",
       "      <td>1397</td>\n",
       "      <td>2015-08-11</td>\n",
       "    </tr>\n",
       "    <tr>\n",
       "      <th>713</th>\n",
       "      <td>1400</td>\n",
       "      <td>2015-08-12</td>\n",
       "    </tr>\n",
       "    <tr>\n",
       "      <th>714</th>\n",
       "      <td>1401</td>\n",
       "      <td>2015-08-13</td>\n",
       "    </tr>\n",
       "    <tr>\n",
       "      <th>715</th>\n",
       "      <td>1182</td>\n",
       "      <td>2015-08-14</td>\n",
       "    </tr>\n",
       "    <tr>\n",
       "      <th>716</th>\n",
       "      <td>451</td>\n",
       "      <td>2015-08-15</td>\n",
       "    </tr>\n",
       "    <tr>\n",
       "      <th>717</th>\n",
       "      <td>393</td>\n",
       "      <td>2015-08-16</td>\n",
       "    </tr>\n",
       "    <tr>\n",
       "      <th>718</th>\n",
       "      <td>1418</td>\n",
       "      <td>2015-08-17</td>\n",
       "    </tr>\n",
       "    <tr>\n",
       "      <th>719</th>\n",
       "      <td>1407</td>\n",
       "      <td>2015-08-18</td>\n",
       "    </tr>\n",
       "    <tr>\n",
       "      <th>720</th>\n",
       "      <td>1353</td>\n",
       "      <td>2015-08-19</td>\n",
       "    </tr>\n",
       "    <tr>\n",
       "      <th>721</th>\n",
       "      <td>1353</td>\n",
       "      <td>2015-08-20</td>\n",
       "    </tr>\n",
       "    <tr>\n",
       "      <th>722</th>\n",
       "      <td>1215</td>\n",
       "      <td>2015-08-21</td>\n",
       "    </tr>\n",
       "    <tr>\n",
       "      <th>723</th>\n",
       "      <td>421</td>\n",
       "      <td>2015-08-22</td>\n",
       "    </tr>\n",
       "    <tr>\n",
       "      <th>724</th>\n",
       "      <td>311</td>\n",
       "      <td>2015-08-23</td>\n",
       "    </tr>\n",
       "    <tr>\n",
       "      <th>725</th>\n",
       "      <td>1309</td>\n",
       "      <td>2015-08-24</td>\n",
       "    </tr>\n",
       "    <tr>\n",
       "      <th>726</th>\n",
       "      <td>1421</td>\n",
       "      <td>2015-08-25</td>\n",
       "    </tr>\n",
       "    <tr>\n",
       "      <th>727</th>\n",
       "      <td>1465</td>\n",
       "      <td>2015-08-26</td>\n",
       "    </tr>\n",
       "    <tr>\n",
       "      <th>728</th>\n",
       "      <td>1443</td>\n",
       "      <td>2015-08-27</td>\n",
       "    </tr>\n",
       "    <tr>\n",
       "      <th>729</th>\n",
       "      <td>1220</td>\n",
       "      <td>2015-08-28</td>\n",
       "    </tr>\n",
       "    <tr>\n",
       "      <th>730</th>\n",
       "      <td>342</td>\n",
       "      <td>2015-08-29</td>\n",
       "    </tr>\n",
       "    <tr>\n",
       "      <th>731</th>\n",
       "      <td>331</td>\n",
       "      <td>2015-08-30</td>\n",
       "    </tr>\n",
       "    <tr>\n",
       "      <th>732</th>\n",
       "      <td>1369</td>\n",
       "      <td>2015-08-31</td>\n",
       "    </tr>\n",
       "  </tbody>\n",
       "</table>\n",
       "<p>733 rows × 2 columns</p>\n",
       "</div>"
      ],
      "text/plain": [
       "     alquiladas       date\n",
       "0           748 2013-08-29\n",
       "1           714 2013-08-30\n",
       "2           640 2013-08-31\n",
       "3           706 2013-09-01\n",
       "4           661 2013-09-02\n",
       "5           597 2013-09-03\n",
       "6           606 2013-09-04\n",
       "7           677 2013-09-05\n",
       "8           814 2013-09-06\n",
       "9           796 2013-09-07\n",
       "10          704 2013-09-08\n",
       "11          769 2013-09-09\n",
       "12          892 2013-09-10\n",
       "13          880 2013-09-11\n",
       "14          942 2013-09-12\n",
       "15          981 2013-09-13\n",
       "16          702 2013-09-14\n",
       "17          624 2013-09-15\n",
       "18          914 2013-09-16\n",
       "19         1073 2013-09-17\n",
       "20         1110 2013-09-18\n",
       "21         1044 2013-09-19\n",
       "22         1102 2013-09-20\n",
       "23          388 2013-09-21\n",
       "24          584 2013-09-22\n",
       "25         1050 2013-09-23\n",
       "26         1075 2013-09-24\n",
       "27         1264 2013-09-25\n",
       "28         1082 2013-09-26\n",
       "29         1101 2013-09-27\n",
       "..          ...        ...\n",
       "703         320 2015-08-02\n",
       "704        1283 2015-08-03\n",
       "705        1360 2015-08-04\n",
       "706        1341 2015-08-05\n",
       "707        1299 2015-08-06\n",
       "708        1197 2015-08-07\n",
       "709         432 2015-08-08\n",
       "710         361 2015-08-09\n",
       "711        1284 2015-08-10\n",
       "712        1397 2015-08-11\n",
       "713        1400 2015-08-12\n",
       "714        1401 2015-08-13\n",
       "715        1182 2015-08-14\n",
       "716         451 2015-08-15\n",
       "717         393 2015-08-16\n",
       "718        1418 2015-08-17\n",
       "719        1407 2015-08-18\n",
       "720        1353 2015-08-19\n",
       "721        1353 2015-08-20\n",
       "722        1215 2015-08-21\n",
       "723         421 2015-08-22\n",
       "724         311 2015-08-23\n",
       "725        1309 2015-08-24\n",
       "726        1421 2015-08-25\n",
       "727        1465 2015-08-26\n",
       "728        1443 2015-08-27\n",
       "729        1220 2015-08-28\n",
       "730         342 2015-08-29\n",
       "731         331 2015-08-30\n",
       "732        1369 2015-08-31\n",
       "\n",
       "[733 rows x 2 columns]"
      ]
     },
     "execution_count": 128,
     "metadata": {},
     "output_type": "execute_result"
    }
   ],
   "source": [
    "print (trips.columns)\n",
    "alquiladasPorFecha = pd.DataFrame(trips.groupby('date').count()['id'])\n",
    "\n",
    "alquiladasPorFecha['date'] = alquiladasPorFecha.index\n",
    "alquiladasPorFecha.reset_index(drop = True, inplace = True)\n",
    "alquiladasPorFecha.rename(columns={'id': 'alquiladas'}, inplace=True)\n",
    "alquiladasPorFecha.date = pd.to_datetime(alquiladasPorFecha.date)\n",
    "alquiladasPorFecha"
   ]
  },
  {
   "cell_type": "markdown",
   "metadata": {},
   "source": [
    "# Miramos Dataframe weather"
   ]
  },
  {
   "cell_type": "code",
   "execution_count": 39,
   "metadata": {
    "collapsed": false
   },
   "outputs": [
    {
     "data": {
      "text/plain": [
       "Index(['date', 'max_temperature_f', 'mean_temperature_f', 'min_temperature_f',\n",
       "       'max_dew_point_f', 'mean_dew_point_f', 'min_dew_point_f',\n",
       "       'max_humidity', 'mean_humidity', 'min_humidity', 'max_visibility_miles',\n",
       "       'mean_visibility_miles', 'min_visibility_miles', 'max_wind_Speed_mph',\n",
       "       'mean_wind_speed_mph', 'max_gust_speed_mph', 'precipitation_inches',\n",
       "       'cloud_cover', 'events', 'wind_dir_degrees', 'zip_code', 'year',\n",
       "       'month', 'day'],\n",
       "      dtype='object')"
      ]
     },
     "execution_count": 39,
     "metadata": {},
     "output_type": "execute_result"
    }
   ],
   "source": [
    "weather.date = pd.to_datetime(weather.date, format='%m/%d/%Y')\n",
    "weather['year'] = weather.date.dt.year\n",
    "weather['month'] = weather.date.dt.month\n",
    "weather['day'] = weather.date.dt.day\n",
    "#weather.drop(['max_sea_level_pressure_inches', 'mean_sea_level_pressure_inches', 'min_sea_level_pressure_inches'],inplace=True, axis=1)\n",
    "weather.columns"
   ]
  },
  {
   "cell_type": "code",
   "execution_count": 61,
   "metadata": {
    "collapsed": false
   },
   "outputs": [
    {
     "name": "stdout",
     "output_type": "stream",
     "text": [
      "Los zip_codes son: \n",
      "[94107 94063 94301 94041 95113]\n"
     ]
    },
    {
     "data": {
      "text/plain": [
       "date\n",
       "2013-08-29    5\n",
       "2013-08-30    5\n",
       "2013-08-31    5\n",
       "2013-09-01    5\n",
       "2013-09-02    5\n",
       "2013-09-03    5\n",
       "2013-09-04    5\n",
       "2013-09-05    5\n",
       "2013-09-06    5\n",
       "2013-09-07    5\n",
       "2013-09-08    5\n",
       "2013-09-09    5\n",
       "2013-09-10    5\n",
       "2013-09-11    5\n",
       "2013-09-12    5\n",
       "2013-09-13    5\n",
       "2013-09-14    5\n",
       "2013-09-15    5\n",
       "2013-09-16    5\n",
       "2013-09-17    5\n",
       "2013-09-18    5\n",
       "2013-09-19    5\n",
       "2013-09-20    5\n",
       "2013-09-21    5\n",
       "2013-09-22    5\n",
       "2013-09-23    5\n",
       "2013-09-24    5\n",
       "2013-09-25    5\n",
       "2013-09-26    5\n",
       "2013-09-27    5\n",
       "             ..\n",
       "2015-08-02    5\n",
       "2015-08-03    5\n",
       "2015-08-04    5\n",
       "2015-08-05    5\n",
       "2015-08-06    5\n",
       "2015-08-07    5\n",
       "2015-08-08    5\n",
       "2015-08-09    5\n",
       "2015-08-10    5\n",
       "2015-08-11    5\n",
       "2015-08-12    5\n",
       "2015-08-13    5\n",
       "2015-08-14    5\n",
       "2015-08-15    5\n",
       "2015-08-16    5\n",
       "2015-08-17    5\n",
       "2015-08-18    5\n",
       "2015-08-19    5\n",
       "2015-08-20    5\n",
       "2015-08-21    5\n",
       "2015-08-22    5\n",
       "2015-08-23    5\n",
       "2015-08-24    5\n",
       "2015-08-25    5\n",
       "2015-08-26    5\n",
       "2015-08-27    5\n",
       "2015-08-28    5\n",
       "2015-08-29    5\n",
       "2015-08-30    5\n",
       "2015-08-31    5\n",
       "Name: zip_code, dtype: int64"
      ]
     },
     "execution_count": 61,
     "metadata": {},
     "output_type": "execute_result"
    }
   ],
   "source": [
    "# Hay un ingreso por zip_code para cada fecha\n",
    "\n",
    "print (\"Los zip_codes son: \")\n",
    "print (weather.zip_code.unique())\n",
    "\n",
    "weather.groupby('date').count()['zip_code']"
   ]
  },
  {
   "cell_type": "code",
   "execution_count": 65,
   "metadata": {
    "collapsed": false
   },
   "outputs": [
    {
     "name": "stdout",
     "output_type": "stream",
     "text": [
      "zip_code: 94107\n",
      "date                       0\n",
      "max_temperature_f          0\n",
      "mean_temperature_f         0\n",
      "min_temperature_f          0\n",
      "max_dew_point_f            0\n",
      "mean_dew_point_f           0\n",
      "min_dew_point_f            0\n",
      "max_humidity               0\n",
      "mean_humidity              0\n",
      "min_humidity               0\n",
      "max_visibility_miles       0\n",
      "mean_visibility_miles      0\n",
      "min_visibility_miles       0\n",
      "max_wind_Speed_mph         0\n",
      "mean_wind_speed_mph        0\n",
      "max_gust_speed_mph        13\n",
      "precipitation_inches       0\n",
      "cloud_cover                0\n",
      "events                   574\n",
      "wind_dir_degrees           0\n",
      "zip_code                   0\n",
      "year                       0\n",
      "month                      0\n",
      "day                        0\n",
      "dtype: int64\n",
      "\n",
      "zip_code: 94063\n",
      "date                       0\n",
      "max_temperature_f          0\n",
      "mean_temperature_f         0\n",
      "min_temperature_f          0\n",
      "max_dew_point_f            0\n",
      "mean_dew_point_f           0\n",
      "min_dew_point_f            0\n",
      "max_humidity               0\n",
      "mean_humidity              0\n",
      "min_humidity               0\n",
      "max_visibility_miles       0\n",
      "mean_visibility_miles      0\n",
      "min_visibility_miles       0\n",
      "max_wind_Speed_mph         0\n",
      "mean_wind_speed_mph        0\n",
      "max_gust_speed_mph       412\n",
      "precipitation_inches       0\n",
      "cloud_cover                0\n",
      "events                   639\n",
      "wind_dir_degrees           0\n",
      "zip_code                   0\n",
      "year                       0\n",
      "month                      0\n",
      "day                        0\n",
      "dtype: int64\n",
      "\n",
      "zip_code: 94301\n",
      "date                       0\n",
      "max_temperature_f          1\n",
      "mean_temperature_f         1\n",
      "min_temperature_f          1\n",
      "max_dew_point_f           51\n",
      "mean_dew_point_f          51\n",
      "min_dew_point_f           51\n",
      "max_humidity              51\n",
      "mean_humidity             51\n",
      "min_humidity              51\n",
      "max_visibility_miles      13\n",
      "mean_visibility_miles     13\n",
      "min_visibility_miles      13\n",
      "max_wind_Speed_mph         1\n",
      "mean_wind_speed_mph        1\n",
      "max_gust_speed_mph       453\n",
      "precipitation_inches       1\n",
      "cloud_cover                1\n",
      "events                   653\n",
      "wind_dir_degrees           1\n",
      "zip_code                   0\n",
      "year                       0\n",
      "month                      0\n",
      "day                        0\n",
      "dtype: int64\n",
      "\n",
      "zip_code: 94041\n",
      "date                       0\n",
      "max_temperature_f          3\n",
      "mean_temperature_f         3\n",
      "min_temperature_f          3\n",
      "max_dew_point_f            3\n",
      "mean_dew_point_f           3\n",
      "min_dew_point_f            3\n",
      "max_humidity               3\n",
      "mean_humidity              3\n",
      "min_humidity               3\n",
      "max_visibility_miles       0\n",
      "mean_visibility_miles      0\n",
      "min_visibility_miles       0\n",
      "max_wind_Speed_mph         0\n",
      "mean_wind_speed_mph        0\n",
      "max_gust_speed_mph         9\n",
      "precipitation_inches       0\n",
      "cloud_cover                0\n",
      "events                   639\n",
      "wind_dir_degrees           0\n",
      "zip_code                   0\n",
      "year                       0\n",
      "month                      0\n",
      "day                        0\n",
      "dtype: int64\n",
      "\n",
      "zip_code: 95113\n",
      "date                       0\n",
      "max_temperature_f          0\n",
      "mean_temperature_f         0\n",
      "min_temperature_f          0\n",
      "max_dew_point_f            0\n",
      "mean_dew_point_f           0\n",
      "min_dew_point_f            0\n",
      "max_humidity               0\n",
      "mean_humidity              0\n",
      "min_humidity               0\n",
      "max_visibility_miles       0\n",
      "mean_visibility_miles      0\n",
      "min_visibility_miles       0\n",
      "max_wind_Speed_mph         0\n",
      "mean_wind_speed_mph        0\n",
      "max_gust_speed_mph        12\n",
      "precipitation_inches       0\n",
      "cloud_cover                0\n",
      "events                   638\n",
      "wind_dir_degrees           0\n",
      "zip_code                   0\n",
      "year                       0\n",
      "month                      0\n",
      "day                        0\n",
      "dtype: int64\n",
      "\n"
     ]
    }
   ],
   "source": [
    "# Vemos los datos para cada zip_code\n",
    "for zc in weather.zip_code.unique():\n",
    "    print (\"zip_code: \" + str(zc))\n",
    "    print (weather[weather.zip_code == zc].isnull().sum())\n",
    "    print ()"
   ]
  },
  {
   "cell_type": "code",
   "execution_count": 70,
   "metadata": {
    "collapsed": false
   },
   "outputs": [],
   "source": [
    "# Vamos a usar 94107 que es el que tiene los datos más limpios\n",
    "weather = weather[weather.zip_code == 94107]\n",
    "weather.drop('zip_code', inplace=True, axis=1)"
   ]
  },
  {
   "cell_type": "code",
   "execution_count": 72,
   "metadata": {
    "collapsed": false
   },
   "outputs": [
    {
     "data": {
      "text/plain": [
       "array([nan, 'Fog', 'Rain', 'Fog-Rain', 'rain', 'Rain-Thunderstorm'], dtype=object)"
      ]
     },
     "execution_count": 72,
     "metadata": {},
     "output_type": "execute_result"
    }
   ],
   "source": [
    "weather.events.unique()"
   ]
  },
  {
   "cell_type": "code",
   "execution_count": 73,
   "metadata": {
    "collapsed": true
   },
   "outputs": [],
   "source": [
    "weather.loc[weather.events == 'rain', 'events'] = \"Rain\"\n",
    "weather.loc[weather.events.isnull(), 'events'] = \"Normal\""
   ]
  },
  {
   "cell_type": "code",
   "execution_count": 80,
   "metadata": {
    "collapsed": false
   },
   "outputs": [],
   "source": [
    "def toCelsius(fahrenheit):\n",
    "    return (fahrenheit - 32) / 1.8"
   ]
  },
  {
   "cell_type": "code",
   "execution_count": 81,
   "metadata": {
    "collapsed": false
   },
   "outputs": [],
   "source": [
    "# Pasamos las temperaturas a farenheit\n",
    "for column in weather.columns:\n",
    "    if \"_f\" in column:\n",
    "        weather[column] = weather[column].apply(toCelsius)\n",
    "\n",
    "weather.rename(columns=lambda x: x.replace(\"_f\", \"_c\"), inplace=True)"
   ]
  },
  {
   "cell_type": "code",
   "execution_count": 87,
   "metadata": {
    "collapsed": false
   },
   "outputs": [
    {
     "data": {
      "text/plain": [
       "count    733.000000\n",
       "mean      20.222071\n",
       "std        4.039283\n",
       "min        8.333333\n",
       "25%       17.222222\n",
       "50%       20.000000\n",
       "75%       22.777778\n",
       "max       33.888889\n",
       "Name: max_temperature_c, dtype: float64"
      ]
     },
     "execution_count": 87,
     "metadata": {},
     "output_type": "execute_result"
    }
   ],
   "source": [
    "# Tienen sentido las temperaturas\n",
    "weather.max_temperature_c.describe()"
   ]
  },
  {
   "cell_type": "code",
   "execution_count": 136,
   "metadata": {
    "collapsed": false
   },
   "outputs": [
    {
     "data": {
      "text/plain": [
       "<matplotlib.axes._subplots.AxesSubplot at 0x7f24058f0828>"
      ]
     },
     "execution_count": 136,
     "metadata": {},
     "output_type": "execute_result"
    },
    {
     "data": {
      "image/png": "[encoded data removed]",
      "text/plain": [
       "<matplotlib.figure.Figure at 0x7f24058225f8>"
      ]
     },
     "metadata": {},
     "output_type": "display_data"
    }
   ],
   "source": [
    "# Veamos si hay relación entre temperatura y cantidad de bicis alquiladas\n",
    "relacion = alquiladasPorFecha.merge(weather, on='date')\n",
    "relacion = relacion[['alquiladas', 'date', 'max_temperature_c', 'mean_temperature_c', 'min_temperature_c']]\n",
    "relacion.plot()"
   ]
  },
  {
   "cell_type": "code",
   "execution_count": null,
   "metadata": {
    "collapsed": true
   },
   "outputs": [],
   "source": []
  }
 ],
 "metadata": {
  "kernelspec": {
   "display_name": "Python 3",
   "language": "python",
   "name": "python3"
  },
  "language_info": {
   "codemirror_mode": {
    "name": "ipython",
    "version": 3
   },
   "file_extension": ".py",
   "mimetype": "text/x-python",
   "name": "python",
   "nbconvert_exporter": "python",
   "pygments_lexer": "ipython3",
   "version": "3.6.0"
  }
 },
 "nbformat": 4,
 "nbformat_minor": 2
}
